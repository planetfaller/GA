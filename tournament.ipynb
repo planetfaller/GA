{
 "cells": [
  {
   "cell_type": "code",
   "execution_count": 174,
   "metadata": {},
   "outputs": [],
   "source": [
    "import numpy as np\n",
    "import matplotlib.pyplot as plt\n",
    "import math\n",
    "import random"
   ]
  },
  {
   "cell_type": "code",
   "execution_count": 175,
   "metadata": {},
   "outputs": [],
   "source": [
    "seq_len = 8\n",
    "pop_size = 24\n",
    "dyn_range = 9\n",
    "no_tournaments = 4\n",
    "tournament_size = 4\n"
   ]
  },
  {
   "cell_type": "code",
   "execution_count": 176,
   "metadata": {},
   "outputs": [
    {
     "name": "stdout",
     "output_type": "stream",
     "text": [
      "[4 0 2 5 6 4 2 2]\n"
     ]
    }
   ],
   "source": [
    "goal = np.random.randint(dyn_range, size=seq_len)\n",
    "print(goal)"
   ]
  },
  {
   "cell_type": "code",
   "execution_count": 177,
   "metadata": {},
   "outputs": [],
   "source": [
    "pop = np.random.randint(dyn_range,size=(pop_size,seq_len))"
   ]
  },
  {
   "cell_type": "code",
   "execution_count": 178,
   "metadata": {},
   "outputs": [
    {
     "ename": "NameError",
     "evalue": "name 'fAL' is not defined",
     "output_type": "error",
     "traceback": [
      "\u001b[1;31m---------------------------------------------------------------------------\u001b[0m",
      "\u001b[1;31mNameError\u001b[0m                                 Traceback (most recent call last)",
      "\u001b[1;32m<ipython-input-178-a0622c4a8fe6>\u001b[0m in \u001b[0;36m<module>\u001b[1;34m()\u001b[0m\n\u001b[1;32m----> 1\u001b[1;33m \u001b[0mtest\u001b[0m \u001b[1;33m=\u001b[0m \u001b[0mnp\u001b[0m\u001b[1;33m.\u001b[0m\u001b[0mrandom\u001b[0m\u001b[1;33m.\u001b[0m\u001b[0mchoice\u001b[0m\u001b[1;33m(\u001b[0m\u001b[0mpop\u001b[0m\u001b[1;33m,\u001b[0m \u001b[0msize\u001b[0m\u001b[1;33m=\u001b[0m\u001b[1;33m[\u001b[0m\u001b[1;33m]\u001b[0m\u001b[1;33m,\u001b[0m\u001b[0mreplace\u001b[0m\u001b[1;33m=\u001b[0m\u001b[0mfAL\u001b[0m\u001b[1;33m)\u001b[0m\u001b[1;33m\u001b[0m\u001b[0m\n\u001b[0m",
      "\u001b[1;31mNameError\u001b[0m: name 'fAL' is not defined"
     ]
    }
   ],
   "source": [
    "test = np.random.choice(pop, size=[],replace=fAL)"
   ]
  },
  {
   "cell_type": "code",
   "execution_count": 18,
   "metadata": {},
   "outputs": [],
   "source": [
    "np.random.shuffle(pop)"
   ]
  },
  {
   "cell_type": "code",
   "execution_count": 21,
   "metadata": {},
   "outputs": [
    {
     "name": "stdout",
     "output_type": "stream",
     "text": [
      "[[0 0 5 8 8 0 5 3]\n",
      " [4 8 1 6 8 7 0 2]\n",
      " [5 2 6 0 2 1 8 7]\n",
      " [1 5 6 3 8 1 2 1]\n",
      " [5 3 1 5 6 0 1 1]\n",
      " [3 5 7 1 3 2 0 0]\n",
      " [7 3 8 1 0 3 1 7]\n",
      " [1 5 3 2 5 5 4 8]\n",
      " [2 5 0 8 0 7 5 5]\n",
      " [3 1 6 2 5 5 7 0]\n",
      " [6 8 8 1 1 1 2 1]\n",
      " [2 0 6 0 2 3 6 1]\n",
      " [5 3 1 2 6 6 1 6]\n",
      " [3 7 8 1 2 2 5 1]\n",
      " [2 8 6 8 4 5 4 8]\n",
      " [6 0 3 7 0 2 1 4]\n",
      " [5 1 2 8 1 1 5 2]\n",
      " [0 5 3 4 2 4 7 3]\n",
      " [3 4 3 5 2 2 7 5]\n",
      " [3 7 5 8 6 7 0 2]\n",
      " [4 5 4 6 6 5 1 4]\n",
      " [5 8 7 6 2 5 8 2]\n",
      " [7 4 5 8 1 4 1 1]\n",
      " [1 3 1 5 4 0 5 8]]\n"
     ]
    },
    {
     "ename": "TypeError",
     "evalue": "delete() missing 1 required positional argument: 'obj'",
     "output_type": "error",
     "traceback": [
      "\u001b[1;31m---------------------------------------------------------------------------\u001b[0m",
      "\u001b[1;31mTypeError\u001b[0m                                 Traceback (most recent call last)",
      "\u001b[1;32m<ipython-input-21-16eaf4397243>\u001b[0m in \u001b[0;36m<module>\u001b[1;34m()\u001b[0m\n\u001b[0;32m      6\u001b[0m     \u001b[0mprint\u001b[0m\u001b[1;33m(\u001b[0m\u001b[0mpop\u001b[0m\u001b[1;33m)\u001b[0m\u001b[1;33m\u001b[0m\u001b[0m\n\u001b[0;32m      7\u001b[0m     \u001b[0mtournament\u001b[0m \u001b[1;33m=\u001b[0m \u001b[0mpop\u001b[0m\u001b[1;33m[\u001b[0m\u001b[1;36m0\u001b[0m\u001b[1;33m:\u001b[0m\u001b[0mtournament_size\u001b[0m\u001b[1;33m]\u001b[0m\u001b[1;33m\u001b[0m\u001b[0m\n\u001b[1;32m----> 8\u001b[1;33m     \u001b[0mnp\u001b[0m\u001b[1;33m.\u001b[0m\u001b[0mdelete\u001b[0m\u001b[1;33m(\u001b[0m\u001b[0mpop\u001b[0m\u001b[1;33m[\u001b[0m\u001b[1;36m0\u001b[0m\u001b[1;33m:\u001b[0m\u001b[0mtournament_size\u001b[0m\u001b[1;33m]\u001b[0m\u001b[1;33m)\u001b[0m\u001b[1;33m\u001b[0m\u001b[0m\n\u001b[0m\u001b[0;32m      9\u001b[0m     \u001b[0mdiff\u001b[0m \u001b[1;33m=\u001b[0m \u001b[0mnp\u001b[0m\u001b[1;33m.\u001b[0m\u001b[0msubtract\u001b[0m\u001b[1;33m(\u001b[0m\u001b[0mgoal\u001b[0m\u001b[1;33m,\u001b[0m\u001b[0mtournament\u001b[0m\u001b[1;33m[\u001b[0m\u001b[1;33m:\u001b[0m\u001b[0mlen\u001b[0m\u001b[1;33m(\u001b[0m\u001b[0mtournament\u001b[0m\u001b[1;33m)\u001b[0m\u001b[1;33m]\u001b[0m\u001b[1;33m)\u001b[0m\u001b[1;33m\u001b[0m\u001b[0m\n\u001b[0;32m     10\u001b[0m     \u001b[0mdiff\u001b[0m \u001b[1;33m=\u001b[0m \u001b[0mnp\u001b[0m\u001b[1;33m.\u001b[0m\u001b[0mabsolute\u001b[0m\u001b[1;33m(\u001b[0m\u001b[0mdiff\u001b[0m\u001b[1;33m)\u001b[0m\u001b[1;33m\u001b[0m\u001b[0m\n",
      "\u001b[1;31mTypeError\u001b[0m: delete() missing 1 required positional argument: 'obj'"
     ]
    }
   ],
   "source": [
    "winners = np.empty([no_tournaments, seq_len])\n",
    "#pop_mask = np.ones(len(pop),dtype=bool) #make us a mask\n",
    "\n",
    "for i in range(no_tournaments):\n",
    "    #np.random.shuffle(pop) # shuffle the population\n",
    "    print(pop)\n",
    "    tournament = pop[0:tournament_size]\n",
    "    np.delete(pop[0:tournament_size])\n",
    "    diff = np.subtract(goal,tournament[:len(tournament)])\n",
    "    diff = np.absolute(diff)\n",
    "    scores = np.sum(diff, axis=1) #sum each row\n",
    "    scores_indx = np.argsort(scores) #return an index sorted on scores\n",
    "    print(\"goal\")\n",
    "    print(goal)\n",
    "    print(\"tournament\")\n",
    "    print(tournament)\n",
    "    print(\"scores\")\n",
    "    print(scores)\n",
    "    print(\"diffs\")\n",
    "    print(diff)\n",
    "    print(scores_indx)\n",
    "    winners[i,:] = tournament[scores_indx[0]] #return the winner\n",
    "    \n",
    "print(\"winners\")\n",
    "print(winners)   "
   ]
  },
  {
   "cell_type": "code",
   "execution_count": 8,
   "metadata": {},
   "outputs": [
    {
     "ename": "NameError",
     "evalue": "name 'pop_mask' is not defined",
     "output_type": "error",
     "traceback": [
      "\u001b[1;31m---------------------------------------------------------------------------\u001b[0m",
      "\u001b[1;31mNameError\u001b[0m                                 Traceback (most recent call last)",
      "\u001b[1;32m<ipython-input-8-e4e54292788c>\u001b[0m in \u001b[0;36m<module>\u001b[1;34m()\u001b[0m\n\u001b[1;32m----> 1\u001b[1;33m \u001b[0mdec_pop\u001b[0m \u001b[1;33m=\u001b[0m \u001b[0mpop\u001b[0m\u001b[1;33m[\u001b[0m\u001b[0mpop_mask\u001b[0m\u001b[1;33m]\u001b[0m\u001b[1;33m\u001b[0m\u001b[0m\n\u001b[0m\u001b[0;32m      2\u001b[0m \u001b[1;33m\u001b[0m\u001b[0m\n\u001b[0;32m      3\u001b[0m \u001b[0mprint\u001b[0m \u001b[1;33m(\u001b[0m\u001b[0mdec_pop\u001b[0m\u001b[1;33m)\u001b[0m\u001b[1;33m\u001b[0m\u001b[0m\n",
      "\u001b[1;31mNameError\u001b[0m: name 'pop_mask' is not defined"
     ]
    }
   ],
   "source": [
    "dec_pop = pop[pop_mask]\n",
    "\n",
    "print (dec_pop)"
   ]
  },
  {
   "cell_type": "code",
   "execution_count": null,
   "metadata": {},
   "outputs": [],
   "source": []
  }
 ],
 "metadata": {
  "kernelspec": {
   "display_name": "Python 3",
   "language": "python",
   "name": "python3"
  },
  "language_info": {
   "codemirror_mode": {
    "name": "ipython",
    "version": 3
   },
   "file_extension": ".py",
   "mimetype": "text/x-python",
   "name": "python",
   "nbconvert_exporter": "python",
   "pygments_lexer": "ipython3",
   "version": "3.5.5"
  }
 },
 "nbformat": 4,
 "nbformat_minor": 2
}
